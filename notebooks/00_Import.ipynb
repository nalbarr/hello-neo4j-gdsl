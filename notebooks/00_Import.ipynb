{
 "cells": [
  {
   "cell_type": "markdown",
   "metadata": {},
   "source": [
    "# Importing the European Roads dataset\n",
    "\n",
    "In this notebook we're going to import the European Roads dataset into Neo4j. Let's first import the Neo4j Python driver:"
   ]
  },
  {
   "cell_type": "code",
   "execution_count": 1,
   "metadata": {},
   "outputs": [
    {
     "name": "stdout",
     "output_type": "stream",
     "text": [
      "Collecting neo4j\n",
      "Collecting sklearn\n",
      "Collecting altair\n",
      "  Using cached https://files.pythonhosted.org/packages/01/55/0bb2226e34f21fa549c3f4557b4f154a5632f61132a969da17c95ca8eab9/altair-4.1.0-py3-none-any.whl\n",
      "Requirement already satisfied: pytz in /opt/conda/lib/python3.7/site-packages (from neo4j) (2018.9)\n",
      "Requirement already satisfied: scikit-learn in /opt/conda/lib/python3.7/site-packages (from sklearn) (0.20.3)\n",
      "Requirement already satisfied: pandas>=0.18 in /opt/conda/lib/python3.7/site-packages (from altair) (0.24.2)\n",
      "Requirement already satisfied: toolz in /opt/conda/lib/python3.7/site-packages (from altair) (0.9.0)\n",
      "Requirement already satisfied: jsonschema in /opt/conda/lib/python3.7/site-packages (from altair) (3.0.1)\n",
      "Requirement already satisfied: numpy in /opt/conda/lib/python3.7/site-packages (from altair) (1.15.4)\n",
      "Requirement already satisfied: jinja2 in /opt/conda/lib/python3.7/site-packages (from altair) (2.10.1)\n",
      "Requirement already satisfied: entrypoints in /opt/conda/lib/python3.7/site-packages (from altair) (0.3)\n",
      "Requirement already satisfied: scipy>=0.13.3 in /opt/conda/lib/python3.7/site-packages (from scikit-learn->sklearn) (1.2.1)\n",
      "Requirement already satisfied: python-dateutil>=2.5.0 in /opt/conda/lib/python3.7/site-packages (from pandas>=0.18->altair) (2.8.0)\n",
      "Requirement already satisfied: attrs>=17.4.0 in /opt/conda/lib/python3.7/site-packages (from jsonschema->altair) (19.1.0)\n",
      "Requirement already satisfied: pyrsistent>=0.14.0 in /opt/conda/lib/python3.7/site-packages (from jsonschema->altair) (0.14.11)\n",
      "Requirement already satisfied: setuptools in /opt/conda/lib/python3.7/site-packages (from jsonschema->altair) (41.0.0)\n",
      "Requirement already satisfied: six>=1.11.0 in /opt/conda/lib/python3.7/site-packages (from jsonschema->altair) (1.12.0)\n",
      "Requirement already satisfied: MarkupSafe>=0.23 in /opt/conda/lib/python3.7/site-packages (from jinja2->altair) (1.1.1)\n",
      "Installing collected packages: neo4j, sklearn, altair\n",
      "Successfully installed altair-4.1.0 neo4j-4.0.1 sklearn-0.0\n",
      "Note: you may need to restart the kernel to use updated packages.\n"
     ]
    }
   ],
   "source": [
    "pip install neo4j sklearn altair"
   ]
  },
  {
   "cell_type": "code",
   "execution_count": 3,
   "metadata": {},
   "outputs": [],
   "source": [
    "from neo4j import GraphDatabase\n",
    "from neo4j.exceptions import ClientError\n",
    "import os"
   ]
  },
  {
   "cell_type": "markdown",
   "metadata": {},
   "source": [
    "Once we've done that we can initialise the Neo4j driver."
   ]
  },
  {
   "cell_type": "code",
   "execution_count": 4,
   "metadata": {},
   "outputs": [],
   "source": [
    "bolt_url = os.getenv(\"NEO4J_BOLT_URL\", \"bolt://localhost\")\n",
    "user = os.getenv(\"NEO4J_USER\", \"neo4j\")\n",
    "password = os.getenv(\"NEO4J_PASSWORD\", \"neo\")\n",
    "driver = GraphDatabase.driver(\"bolt://graph-embeddings-neo4j\", auth=(user, password))"
   ]
  },
  {
   "cell_type": "markdown",
   "metadata": {},
   "source": [
    "## Importing the dataset\n",
    "\n",
    "And now we can import the dataset:"
   ]
  },
  {
   "cell_type": "code",
   "execution_count": 6,
   "metadata": {},
   "outputs": [
    {
     "name": "stdout",
     "output_type": "stream",
     "text": [
      "An equivalent constraint already exists, 'Constraint( UNIQUE, :Place(name) )'.\n"
     ]
    },
    {
     "data": {
      "text/plain": [
       "{'labels_added': 933, 'relationships_created': 2145, 'nodes_created': 933, 'properties_set': 4683}"
      ]
     },
     "metadata": {},
     "output_type": "display_data"
    }
   ],
   "source": [
    "with driver.session(database=\"neo4j\") as session:\n",
    "    try: \n",
    "        session.run(\"\"\"\n",
    "        CREATE CONSTRAINT ON (p:Place) ASSERT p.name IS UNIQUE;\n",
    "        \"\"\")\n",
    "    except ClientError as ex:\n",
    "        print(ex)\n",
    "        \n",
    "    result = session.run(\"\"\"\n",
    "    USING PERIODIC COMMIT 1000\n",
    "    LOAD CSV WITH HEADERS FROM \"https://github.com/neo4j-examples/graph-embeddings/raw/main/data/roads.csv\"\n",
    "    AS row\n",
    "\n",
    "    MERGE (origin:Place {name: row.origin_reference_place})\n",
    "    MERGE (originCountry:Country {code: row.origin_country_code})\n",
    "\n",
    "    MERGE (destination:Place {name: row.destination_reference_place})\n",
    "    MERGE (destinationCountry:Country {code: row.destination_country_code})\n",
    "    \n",
    "    MERGE (origin)-[:IN_COUNTRY]->(originCountry)\n",
    "    MERGE (destination)-[:IN_COUNTRY]->(destinationCountry)\n",
    "\n",
    "    MERGE (origin)-[eroad:EROAD {number: row.road_number}]->(destination)\n",
    "    SET eroad.distance = toInteger(row.distance), eroad.watercrossing = row.watercrossing;\n",
    "    \"\"\")\n",
    "    display(result.consume().counters)"
   ]
  }
 ],
 "metadata": {
  "kernelspec": {
   "display_name": "Python 3",
   "language": "python",
   "name": "python3"
  },
  "language_info": {
   "codemirror_mode": {
    "name": "ipython",
    "version": 3
   },
   "file_extension": ".py",
   "mimetype": "text/x-python",
   "name": "python",
   "nbconvert_exporter": "python",
   "pygments_lexer": "ipython3",
   "version": "3.7.3"
  }
 },
 "nbformat": 4,
 "nbformat_minor": 4
}
